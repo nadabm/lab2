{
  "nbformat": 4,
  "nbformat_minor": 0,
  "metadata": {
    "colab": {
      "provenance": [],
      "gpuType": "T4"
    },
    "kernelspec": {
      "name": "python3",
      "display_name": "Python 3"
    },
    "language_info": {
      "name": "python"
    },
    "accelerator": "GPU"
  },
  "cells": [
    {
      "cell_type": "code",
      "execution_count": 43,
      "metadata": {
        "id": "TT_Fh4z7FIRa"
      },
      "outputs": [],
      "source": [
        "import torch\n",
        "import torch.nn as nn\n",
        "import torch.optim as optim\n",
        "import torchvision\n",
        "import torchvision.transforms as transforms\n",
        "import matplotlib.pyplot as plt\n",
        "from sklearn.metrics import f1_score\n",
        "import time"
      ]
    },
    {
      "cell_type": "code",
      "source": [
        "# Vérifier si un GPU est disponible pour accélérer les calculs\n",
        "device = torch.device(\"cuda:0\" if torch.cuda.is_available() else \"cpu\")\n",
        "print(f\"Entraînement sur : {device}\")"
      ],
      "metadata": {
        "colab": {
          "base_uri": "https://localhost:8080/"
        },
        "id": "ndO0fFe_ICLe",
        "outputId": "3fca52bc-6d6b-4be3-e3f0-49ff2a37ae7d"
      },
      "execution_count": 44,
      "outputs": [
        {
          "output_type": "stream",
          "name": "stdout",
          "text": [
            "Entraînement sur : cuda:0\n"
          ]
        }
      ]
    },
    {
      "cell_type": "code",
      "source": [
        "class CNN(nn.Module):\n",
        "    def __init__(self):\n",
        "        super(CNN, self).__init__()\n",
        "        self.conv1 = nn.Conv2d(1, 32, kernel_size=3, padding=1)\n",
        "        self.conv2 = nn.Conv2d(32, 64, kernel_size=3, padding=1)\n",
        "        self.pool = nn.MaxPool2d(2, 2)\n",
        "        self.fc1 = nn.Linear(64 * 7 * 7, 128)\n",
        "        self.fc2 = nn.Linear(128, 10)\n",
        "\n",
        "    def forward(self, x):\n",
        "        x = self.pool(torch.relu(self.conv1(x)))\n",
        "        x = self.pool(torch.relu(self.conv2(x)))\n",
        "        x = x.view(-1, 64 * 7 * 7)\n",
        "        x = torch.relu(self.fc1(x))\n",
        "        x = self.fc2(x)\n",
        "        return x\n"
      ],
      "metadata": {
        "id": "0sbgXR9jIFb1"
      },
      "execution_count": 45,
      "outputs": []
    },
    {
      "cell_type": "code",
      "source": [
        "# Transformation des données pour normaliser les pixels entre [-1, 1]\n",
        "transform = transforms.Compose([\n",
        "    transforms.ToTensor(),\n",
        "    transforms.Normalize((0.5,), (0.5,))\n",
        "])\n"
      ],
      "metadata": {
        "id": "xpOdjdGyKdeD"
      },
      "execution_count": 46,
      "outputs": []
    },
    {
      "cell_type": "code",
      "source": [
        "# Charger les données d'entraînement et de test\n",
        "trainset = torchvision.datasets.MNIST(root='./data', train=True, download=True, transform=transform)\n",
        "trainloader = torch.utils.data.DataLoader(trainset, batch_size=64, shuffle=True)  # Batch de 64 échantillons\n",
        "\n",
        "testset = torchvision.datasets.MNIST(root='./data', train=False, download=True, transform=transform)\n",
        "testloader = torch.utils.data.DataLoader(testset, batch_size=64, shuffle=False)"
      ],
      "metadata": {
        "id": "P804ypEMKw8e"
      },
      "execution_count": 47,
      "outputs": []
    },
    {
      "cell_type": "code",
      "source": [
        "model = CNN().to(device)\n",
        "criterion = nn.CrossEntropyLoss()\n",
        "optimizer = optim.Adam(model.parameters(), lr=0.001, weight_decay=1e-5)  # Optimizer with regularization"
      ],
      "metadata": {
        "id": "Ywpy0h9kK3Gb"
      },
      "execution_count": 48,
      "outputs": []
    },
    {
      "cell_type": "code",
      "source": [
        "# Liste pour stocker l'évolution de la perte\n",
        "train_loss_history = []\n",
        "\n",
        "# Mesurer le temps d'entraînement\n",
        "start_time = time.time()\n",
        "\n",
        "# Entraîner le modèle\n",
        "for epoch in range(5):  # Nombre d'époques\n",
        "    running_loss = 0.0  # Pour calculer la perte moyenne\n",
        "    for i, data in enumerate(trainloader, 0):\n",
        "        inputs, labels = data[0].to(device), data[1].to(device)\n",
        "        # Réinitialiser les gradients\n",
        "        optimizer.zero_grad()\n",
        "        # Forward Propagation\n",
        "        outputs = model(inputs)\n",
        "        # Calcul de la perte\n",
        "        loss = criterion(outputs, labels)\n",
        "         # Backward Propagation\n",
        "        loss.backward()\n",
        "        # Mise à jour des poids\n",
        "        optimizer.step()\n",
        "\n",
        "        # Ajouter la perte pour cette itération\n",
        "        running_loss += loss.item()\n",
        "        if i % 100 == 99:  # Afficher la perte toutes les 100 mini-batches\n",
        "            train_loss_history.append(running_loss / 100)\n",
        "            print('[%d, %5d] perte: %.3f' % (epoch + 1, i + 1, running_loss / 100))\n",
        "            running_loss = 0.0\n",
        "\n",
        "# Temps total d'entraînement\n",
        "end_time = time.time()\n",
        "training_time = end_time - start_time\n",
        "print(f\"Entraînement terminé en {training_time:.2f} secondes\")\n"
      ],
      "metadata": {
        "colab": {
          "base_uri": "https://localhost:8080/"
        },
        "id": "I6p2qOSGMZ2t",
        "outputId": "02979915-0f9f-468f-d852-648d835f32b4"
      },
      "execution_count": 49,
      "outputs": [
        {
          "output_type": "stream",
          "name": "stdout",
          "text": [
            "[1,   100] perte: 0.683\n",
            "[1,   200] perte: 0.176\n",
            "[1,   300] perte: 0.115\n",
            "[1,   400] perte: 0.105\n",
            "[1,   500] perte: 0.078\n",
            "[1,   600] perte: 0.074\n",
            "[1,   700] perte: 0.080\n",
            "[1,   800] perte: 0.064\n",
            "[1,   900] perte: 0.061\n",
            "[2,   100] perte: 0.049\n",
            "[2,   200] perte: 0.054\n",
            "[2,   300] perte: 0.049\n",
            "[2,   400] perte: 0.043\n",
            "[2,   500] perte: 0.051\n",
            "[2,   600] perte: 0.044\n",
            "[2,   700] perte: 0.038\n",
            "[2,   800] perte: 0.039\n",
            "[2,   900] perte: 0.045\n",
            "[3,   100] perte: 0.037\n",
            "[3,   200] perte: 0.038\n",
            "[3,   300] perte: 0.030\n",
            "[3,   400] perte: 0.029\n",
            "[3,   500] perte: 0.028\n",
            "[3,   600] perte: 0.022\n",
            "[3,   700] perte: 0.032\n",
            "[3,   800] perte: 0.031\n",
            "[3,   900] perte: 0.030\n",
            "[4,   100] perte: 0.018\n",
            "[4,   200] perte: 0.024\n",
            "[4,   300] perte: 0.019\n",
            "[4,   400] perte: 0.032\n",
            "[4,   500] perte: 0.028\n",
            "[4,   600] perte: 0.027\n",
            "[4,   700] perte: 0.020\n",
            "[4,   800] perte: 0.031\n",
            "[4,   900] perte: 0.031\n",
            "[5,   100] perte: 0.013\n",
            "[5,   200] perte: 0.015\n",
            "[5,   300] perte: 0.015\n",
            "[5,   400] perte: 0.013\n",
            "[5,   500] perte: 0.020\n",
            "[5,   600] perte: 0.015\n",
            "[5,   700] perte: 0.017\n",
            "[5,   800] perte: 0.025\n",
            "[5,   900] perte: 0.023\n",
            "Entraînement terminé en 76.59 secondes\n"
          ]
        }
      ]
    },
    {
      "cell_type": "code",
      "source": [
        "# Évaluer le modèle sur les données de test\n",
        "correct = 0\n",
        "total = 0\n",
        "all_predictions = []\n",
        "all_labels = []\n",
        "\n",
        "with torch.no_grad():\n",
        "    for data in testloader:\n",
        "        images, labels = data[0].to(device), data[1].to(device)\n",
        "        outputs = model(images)\n",
        "        _, predicted = torch.max(outputs.data, 1)  # Prédire la classe avec la probabilité maximale\n",
        "        total += labels.size(0)\n",
        "        correct += (predicted == labels).sum().item()\n",
        "        # Collecter les prédictions et labels réels pour les métriques\n",
        "        all_predictions.extend(predicted.tolist())\n",
        "        all_labels.extend(labels.tolist())"
      ],
      "metadata": {
        "id": "sZRKfWavNXrd"
      },
      "execution_count": 50,
      "outputs": []
    },
    {
      "cell_type": "code",
      "source": [
        "# Calcul de l'Accuracy\n",
        "accuracy = 100 * correct / total\n",
        "print(f'Exactitude du modèle sur 10,000 images de test: {accuracy:.2f}%')\n",
        "\n",
        "# Calcul du score F1\n",
        "f1 = f1_score(all_labels, all_predictions, average='weighted')\n",
        "print(f'Score F1 pour CNN: {f1:.4f}')"
      ],
      "metadata": {
        "colab": {
          "base_uri": "https://localhost:8080/"
        },
        "id": "jnVzF5XWPI0H",
        "outputId": "912b8f66-8d21-4c1f-b293-9720a171df0a"
      },
      "execution_count": 51,
      "outputs": [
        {
          "output_type": "stream",
          "name": "stdout",
          "text": [
            "Exactitude du modèle sur 10,000 images de test: 98.88%\n",
            "Score F1 pour CNN: 0.9888\n"
          ]
        }
      ]
    },
    {
      "cell_type": "code",
      "source": [
        "# Tracer la courbe de perte\n",
        "plt.plot(train_loss_history, label='Perte d\\'entraînement')\n",
        "plt.title('Courbe de Perte')\n",
        "plt.xlabel('Itérations (x100)')\n",
        "plt.ylabel('Perte')\n",
        "plt.legend()\n",
        "plt.grid(True)\n",
        "plt.show()"
      ],
      "metadata": {
        "colab": {
          "base_uri": "https://localhost:8080/",
          "height": 472
        },
        "id": "052-uVSsPSF5",
        "outputId": "a0c93a30-0140-4f1e-fd8d-f4195087872f"
      },
      "execution_count": 52,
      "outputs": [
        {
          "output_type": "display_data",
          "data": {
            "text/plain": [
              "<Figure size 640x480 with 1 Axes>"
            ],
            "image/png": "[encoded data removed]"
          },
          "metadata": {}
        }
      ]
    },
    {
      "cell_type": "code",
      "source": [
        "# Faster R-CNN\n",
        "class FasterRCNN(nn.Module):\n",
        "    def __init__(self):\n",
        "        super(FasterRCNN, self).__init__()\n",
        "        self.conv1 = nn.Conv2d(1, 32, kernel_size=3, padding=1)\n",
        "        self.pool = nn.MaxPool2d(kernel_size=2, stride=2, padding=0)\n",
        "        self.conv2 = nn.Conv2d(32, 64, kernel_size=3, padding=1)\n",
        "        self.fc1 = nn.Linear(64 * 7 * 7, 128)\n",
        "        self.fc2 = nn.Linear(128, 10)  # Output layer for 10 classes\n",
        "\n",
        "    def forward(self, x):\n",
        "        x = self.pool(nn.functional.relu(self.conv1(x)))\n",
        "        x = self.pool(nn.functional.relu(self.conv2(x)))\n",
        "        x = torch.flatten(x, 1)  # flatten all dimensions except batch\n",
        "        x = nn.functional.relu(self.fc1(x))\n",
        "        x = self.fc2(x)\n",
        "        return x"
      ],
      "metadata": {
        "id": "VAalKZbXNeP5"
      },
      "execution_count": 80,
      "outputs": []
    },
    {
      "cell_type": "code",
      "source": [
        " # Hyperparameters\n",
        "batch_size = 64\n",
        "learning_rate = 0.001\n",
        "epochs = 10\n",
        "\n",
        " # Charger les données MNIST\n",
        "transform = torchvision.transforms.Compose([\n",
        "    torchvision.transforms.ToTensor(),\n",
        "    torchvision.transforms.Normalize((0.5,), (0.5,))  # Normaliser\n",
        "])\n",
        "\n",
        "train_dataset = torchvision.datasets.MNIST(root='./data', train=True, download=True, transform=transform)\n",
        "test_dataset = torchvision.datasets.MNIST(root='./data', train=False, download=True, transform=transform)\n"
      ],
      "metadata": {
        "id": "veyAEtaQQp6_"
      },
      "execution_count": 81,
      "outputs": []
    },
    {
      "cell_type": "code",
      "source": [
        "from torch.utils.data import random_split\n",
        "# Split train dataset into train and validation sets\n",
        "train_size = int(0.8 * len(train_dataset))\n",
        "val_size = len(train_dataset) - train_size\n",
        "train_dataset, val_dataset = random_split(train_dataset, [train_size, val_size])\n",
        "\n",
        "train_loader = DataLoader(train_dataset, batch_size=batch_size, shuffle=True)\n",
        "val_loader = DataLoader(val_dataset, batch_size=batch_size, shuffle=False)\n",
        "test_loader = DataLoader(test_dataset, batch_size=batch_size, shuffle=False)\n"
      ],
      "metadata": {
        "id": "O0VRlkxwRORh"
      },
      "execution_count": 82,
      "outputs": []
    },
    {
      "cell_type": "code",
      "source": [
        "# Initialiser le model, loss function, and optimizer\n",
        "model = FasterRCNN()\n",
        "device = torch.device(\"cuda\" if torch.cuda.is_available() else \"cpu\")\n",
        "model.to(device)\n",
        "\n",
        "criterion = nn.CrossEntropyLoss()\n",
        "optimizer = optim.Adam(model.parameters(), lr=learning_rate)\n"
      ],
      "metadata": {
        "id": "v9SchJ9vRXM2"
      },
      "execution_count": 83,
      "outputs": []
    },
    {
      "cell_type": "code",
      "source": [
        "# Mesurer le temps d'entraînement\n",
        "start_time = time.time()\n",
        "\n",
        "train_loss_history = []\n",
        "# Entraîner le modèle\n",
        "\n",
        "for epoch in range(epochs):\n",
        "    model.train()\n",
        "    running_loss = 0.0\n",
        "    for inputs, labels in train_loader:\n",
        "        inputs, labels = inputs.to(device), labels.to(device)\n",
        "\n",
        "        optimizer.zero_grad()\n",
        "\n",
        "        outputs = model(inputs)\n",
        "        loss = criterion(outputs, labels)\n",
        "        loss.backward()\n",
        "        optimizer.step()\n",
        "\n",
        "        running_loss += loss.item()\n",
        "    print(f\"Epoch : {epoch+1}/{epochs}, Loss: {running_loss/len(train_loader)}\")\n",
        "# Temps total d'entraînement\n",
        "end_time = time.time()\n",
        "training_time = end_time - start_time\n",
        "print(f\"Entraînement terminé en {training_time:.2f} secondes\")\n"
      ],
      "metadata": {
        "colab": {
          "base_uri": "https://localhost:8080/"
        },
        "id": "RQFE6NcvRwi7",
        "outputId": "00bf2966-c291-4b75-d61c-b0935e6ca624"
      },
      "execution_count": 90,
      "outputs": [
        {
          "output_type": "stream",
          "name": "stdout",
          "text": [
            "Epoch : 1/10, Loss: 0.004674838996783099\n",
            "Epoch : 2/10, Loss: 0.005003515144831321\n",
            "Epoch : 3/10, Loss: 0.0031072330571195344\n",
            "Epoch : 4/10, Loss: 0.003839544943840285\n",
            "Epoch : 5/10, Loss: 0.003164490865272748\n",
            "Epoch : 6/10, Loss: 0.0005556810601162916\n",
            "Epoch : 7/10, Loss: 0.005004927337349834\n",
            "Epoch : 8/10, Loss: 0.0053408753256506715\n",
            "Epoch : 9/10, Loss: 0.0029207814165523632\n",
            "Epoch : 10/10, Loss: 0.0007374835804433754\n",
            "Entraînement terminé en 122.71 secondes\n"
          ]
        }
      ]
    },
    {
      "cell_type": "code",
      "source": [
        "# Évaluer le modèle sur les données de test\n",
        "correct = 0\n",
        "total = 0\n",
        "all_predictions=[]\n",
        "all_labels=[]\n",
        "with torch.no_grad():\n",
        "    for inputs, labels in test_loader:\n",
        "        inputs, labels = inputs.to(device), labels.to(device)\n",
        "        outputs = model(inputs)\n",
        "        _, predicted = torch.max(outputs.data, 1)\n",
        "        total += labels.size(0)\n",
        "        correct += (predicted == labels).sum().item()\n",
        "        all_predictions.extend(predicted.tolist())\n",
        "        all_labels.extend(labels.tolist())\n",
        "#Accuracy\n",
        "frcnn_accuracy=100 * correct / total\n",
        "print('Accuracy : %d %%' % frcnn_accuracy)\n",
        "\n",
        "# F1 score\n",
        "frcnn_f1 = f1_score(all_labels, all_predictions, average='weighted')\n",
        "print(\"F1 Score:\", frcnn_f1)"
      ],
      "metadata": {
        "colab": {
          "base_uri": "https://localhost:8080/"
        },
        "id": "upXBtGN8T0_k",
        "outputId": "d9f5f2ca-73c5-4142-bcc2-58cdfe64506c"
      },
      "execution_count": 91,
      "outputs": [
        {
          "output_type": "stream",
          "name": "stdout",
          "text": [
            "Accuracy : 99 %\n",
            "F1 Score: 0.990206056818831\n"
          ]
        }
      ]
    },
    {
      "cell_type": "code",
      "source": [],
      "metadata": {
        "id": "jJLy1M0aZF1V"
      },
      "execution_count": null,
      "outputs": []
    }
  ]
}